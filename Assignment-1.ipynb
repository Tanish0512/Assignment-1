{
 "cells": [
  {
   "cell_type": "code",
   "execution_count": 1,
   "id": "947cab03-2541-4ec2-924d-1c9cdfad5cce",
   "metadata": {},
   "outputs": [],
   "source": [
    "import numpy as np\n",
    "import pandas as pd"
   ]
  },
  {
   "cell_type": "code",
   "execution_count": 2,
   "id": "610269a5-72d0-404f-9086-a899c57e51a8",
   "metadata": {},
   "outputs": [],
   "source": [
    "tm = pd.read_csv('TATAMOTORS.NS.csv')"
   ]
  },
  {
   "cell_type": "code",
   "execution_count": 3,
   "id": "b2849a43-7415-4b4d-8665-2c76b54d3c78",
   "metadata": {},
   "outputs": [],
   "source": [
    "nf = pd.read_csv('^NSEI.csv')"
   ]
  },
  {
   "cell_type": "code",
   "execution_count": 4,
   "id": "40d0be6d-1362-44f9-9ec0-e007b48670fb",
   "metadata": {},
   "outputs": [],
   "source": [
    "trading_days = 243"
   ]
  },
  {
   "cell_type": "code",
   "execution_count": 5,
   "id": "b17a6fcd-5b87-481b-8fbc-79f26b3e2d01",
   "metadata": {},
   "outputs": [],
   "source": [
    "tm['Returns'] = tm['Adj Close'].pct_change()"
   ]
  },
  {
   "cell_type": "code",
   "execution_count": 6,
   "id": "85ff8beb-23eb-4a38-a78f-dd4b12cc867a",
   "metadata": {},
   "outputs": [],
   "source": [
    "nf['Returns'] = nf['Adj Close'].pct_change()"
   ]
  },
  {
   "cell_type": "code",
   "execution_count": 7,
   "id": "9ea45547-4681-435e-b75f-a36e3535e62c",
   "metadata": {},
   "outputs": [],
   "source": [
    "mean_Returns_tm = tm['Returns'].mean()"
   ]
  },
  {
   "cell_type": "code",
   "execution_count": 8,
   "id": "88dca6cc-c5d8-4f22-a896-0ecb0c8a20b8",
   "metadata": {},
   "outputs": [],
   "source": [
    "mean_Returns_nf = nf['Returns'].mean()"
   ]
  },
  {
   "cell_type": "code",
   "execution_count": 9,
   "id": "74488991-75e7-4811-a8d8-872c1745d158",
   "metadata": {},
   "outputs": [],
   "source": [
    "cov_matrix = np.cov(tm['Returns'].dropna(), nf['Returns'].dropna())"
   ]
  },
  {
   "cell_type": "code",
   "execution_count": 10,
   "id": "444c35c5-96b2-485c-a70a-6bbad5b35b45",
   "metadata": {},
   "outputs": [],
   "source": [
    "beta = cov_matrix[0, 1]/cov_matrix[1, 1]"
   ]
  },
  {
   "cell_type": "code",
   "execution_count": 11,
   "id": "28bf943f-1b5d-4a6c-80b9-ee755270c71b",
   "metadata": {},
   "outputs": [],
   "source": [
    "rf_Rate = 7.015/100"
   ]
  },
  {
   "cell_type": "code",
   "execution_count": 12,
   "id": "4319d918-28b6-4d03-8b82-6ffe14c37dd9",
   "metadata": {},
   "outputs": [],
   "source": [
    "alpha = ((mean_Returns_tm * trading_days) - rf_Rate - beta*((mean_Returns_nf * trading_days) - rf_Rate)) * 100"
   ]
  },
  {
   "cell_type": "code",
   "execution_count": 13,
   "id": "c3e64702-9a1e-43d0-bd2e-648329dcc24f",
   "metadata": {},
   "outputs": [],
   "source": [
    "sharpe_nf = (mean_Returns_nf * trading_days - rf_Rate) / (nf['Returns'].std() * np.sqrt(trading_days))"
   ]
  },
  {
   "cell_type": "code",
   "execution_count": 14,
   "id": "17bef509-2c04-43c9-9aab-acddb722380d",
   "metadata": {},
   "outputs": [],
   "source": [
    "sharpe_tm = (mean_Returns_tm * trading_days - rf_Rate) / (tm['Returns'].std() * np.sqrt(trading_days))"
   ]
  },
  {
   "cell_type": "code",
   "execution_count": 15,
   "id": "f25d3c82-60f0-4596-9936-865485caf0c9",
   "metadata": {},
   "outputs": [],
   "source": [
    "def max_drawdown(prices):\n",
    "    max_dd = 0\n",
    "    peak = prices[0]\n",
    "\n",
    "    for price in prices:\n",
    "        if price > peak:\n",
    "            peak = price\n",
    "        drawdown = (price - peak) / peak * 100\n",
    "        if drawdown < max_dd:\n",
    "            max_dd = drawdown\n",
    "    \n",
    "    return max_dd"
   ]
  },
  {
   "cell_type": "code",
   "execution_count": 16,
   "id": "910a13e7-a332-4aab-8908-0582e030b123",
   "metadata": {},
   "outputs": [],
   "source": [
    "max_drawdown_tm = max_drawdown(tm['Adj Close'])"
   ]
  },
  {
   "cell_type": "code",
   "execution_count": 17,
   "id": "4a7eb4f6-0966-42b1-b158-557e8a00b386",
   "metadata": {},
   "outputs": [],
   "source": [
    "max_drawdown_nf = max_drawdown(nf['Adj Close'])"
   ]
  },
  {
   "cell_type": "code",
   "execution_count": 18,
   "id": "0294f583-c642-45fd-b73c-8b018222137b",
   "metadata": {},
   "outputs": [
    {
     "name": "stdout",
     "output_type": "stream",
     "text": [
      "Alpha: 61.26838573898341\n"
     ]
    }
   ],
   "source": [
    "print(f\"Alpha: {alpha}\")   "
   ]
  },
  {
   "cell_type": "code",
   "execution_count": 19,
   "id": "8f571849-0794-481d-846a-3b1cdeced35e",
   "metadata": {},
   "outputs": [
    {
     "name": "stdout",
     "output_type": "stream",
     "text": [
      "Beta: 1.0940495728744486\n"
     ]
    }
   ],
   "source": [
    "print(f\"Beta: {beta}\")   "
   ]
  },
  {
   "cell_type": "code",
   "execution_count": 20,
   "id": "74dbff54-1620-43fd-a4e7-7907c760358f",
   "metadata": {},
   "outputs": [
    {
     "name": "stdout",
     "output_type": "stream",
     "text": [
      "Sharpe Ratio (Nifty50): 1.903250829902621\n"
     ]
    }
   ],
   "source": [
    "print(f\"Sharpe Ratio (Nifty50): {sharpe_nf}\")    "
   ]
  },
  {
   "cell_type": "code",
   "execution_count": 21,
   "id": "02c3edb1-694a-4e30-9dee-cc34f61f49da",
   "metadata": {},
   "outputs": [
    {
     "name": "stdout",
     "output_type": "stream",
     "text": [
      "Sharpe Ratio (TATA MOTORS): 3.483774989528693\n"
     ]
    }
   ],
   "source": [
    "print(f\"Sharpe Ratio (TATA MOTORS): {sharpe_tm}\")    "
   ]
  },
  {
   "cell_type": "code",
   "execution_count": 22,
   "id": "c9cf73cd-d927-4c6f-856b-66c73a47c593",
   "metadata": {},
   "outputs": [
    {
     "name": "stdout",
     "output_type": "stream",
     "text": [
      "Max Drawdown (Nifty50): -6.611908147652758%\n"
     ]
    }
   ],
   "source": [
    "print(f\"Max Drawdown (Nifty50): {max_drawdown_nf}%\")   "
   ]
  },
  {
   "cell_type": "code",
   "execution_count": 23,
   "id": "9029debc-34f7-4bc0-af6a-9b5dab48a6cf",
   "metadata": {},
   "outputs": [
    {
     "name": "stdout",
     "output_type": "stream",
     "text": [
      "Max Drawdown (TATA MOTORS): -9.511209816302157%\n"
     ]
    }
   ],
   "source": [
    "print(f\"Max Drawdown (TATA MOTORS): {max_drawdown_tm}%\")"
   ]
  }
 ],
 "metadata": {
  "kernelspec": {
   "display_name": "Python 3 (ipykernel)",
   "language": "python",
   "name": "python3"
  },
  "language_info": {
   "codemirror_mode": {
    "name": "ipython",
    "version": 3
   },
   "file_extension": ".py",
   "mimetype": "text/x-python",
   "name": "python",
   "nbconvert_exporter": "python",
   "pygments_lexer": "ipython3",
   "version": "3.11.4"
  }
 },
 "nbformat": 4,
 "nbformat_minor": 5
}
